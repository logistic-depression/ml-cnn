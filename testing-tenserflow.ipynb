{
 "cells": [
  {
   "cell_type": "code",
   "execution_count": 1,
   "metadata": {},
   "outputs": [],
   "source": [
    "## Math/ML imports\n",
    "import tensorflow as tf\n",
    "from tensorflow.keras import backend as K\n",
    "import numpy as np\n",
    "#import math\n",
    "\n",
    "## Metrics\n",
    "#from sklearn.metrics import f1_score, precision_score, recall_score\n",
    "#from sklearn.metrics import confusion_matrix\n",
    "\n",
    "## Garbage collector\n",
    "import gc\n",
    "\n",
    "## Helpers\n",
    "from png_helper import load_data\n",
    "\n",
    "## Time\n",
    "#import time\n",
    "#from datetime import timedelta\n",
    "\n",
    "## Graphical\n",
    "#%matplotlib inline\n",
    "#import matplotlib.pyplot as plt\n",
    "#from sklearn.metrics import confusion_matrix\n"
   ]
  },
  {
   "cell_type": "code",
   "execution_count": 2,
   "metadata": {},
   "outputs": [],
   "source": [
    "# Load data\n",
    "(x_train, y_train), x_test = load_data()\n",
    "\n",
    "# Map from 0-255 to 0-1\n",
    "x_train = x_train / 255.0\n",
    "y_train = y_train / 255.0\n",
    "x_test = x_test / 255.0\n",
    "\n",
    "# Turn the train set into binary (condition: >=0.5)\n",
    "y_train = tf.keras.utils.to_categorical(y_train * 2) # two categorical collumns\n",
    "y_train = y_train[:,:,:,1:2] # keep only second collumn. (road=1, background=0)"
   ]
  },
  {
   "cell_type": "code",
   "execution_count": 3,
   "metadata": {
    "scrolled": false
   },
   "outputs": [
    {
     "data": {
      "text/plain": [
       "((100, 400, 400, 3), (50, 608, 608, 3), (100, 400, 400, 1))"
      ]
     },
     "execution_count": 3,
     "metadata": {},
     "output_type": "execute_result"
    }
   ],
   "source": [
    "x_train.shape, x_test.shape, y_train.shape"
   ]
  },
  {
   "cell_type": "code",
   "execution_count": 4,
   "metadata": {},
   "outputs": [
    {
     "data": {
      "text/plain": [
       "array([0., 0., 0., 0., 0., 0., 1., 1., 1., 1.], dtype=float32)"
      ]
     },
     "execution_count": 4,
     "metadata": {},
     "output_type": "execute_result"
    }
   ],
   "source": [
    "y_train[0,10,185:195,0] # road=1, background=0"
   ]
  },
  {
   "cell_type": "code",
   "execution_count": 5,
   "metadata": {},
   "outputs": [],
   "source": [
    "#from showim import showim\n",
    "#showim(x_train[0], x_train[1], x_train[2], y_train[0], y_train[1], y_train[2])"
   ]
  },
  {
   "cell_type": "code",
   "execution_count": 6,
   "metadata": {
    "scrolled": true
   },
   "outputs": [
    {
     "data": {
      "text/plain": [
       "array([0.24705882, 0.23137255, 0.21568627])"
      ]
     },
     "execution_count": 6,
     "metadata": {},
     "output_type": "execute_result"
    }
   ],
   "source": [
    "x_train[0][10][200]"
   ]
  },
  {
   "cell_type": "code",
   "execution_count": 7,
   "metadata": {},
   "outputs": [],
   "source": [
    "model = tf.keras.models.Sequential([\n",
    "  tf.keras.layers.Conv2D(4, (9, 9),\n",
    "                         activation=tf.nn.relu,\n",
    "                         input_shape=(400,400,3)),\n",
    "  tf.keras.layers.Conv2D(8, (9, 9),\n",
    "                         activation=tf.nn.relu),\n",
    "  tf.keras.layers.Conv2D(12, (5, 5),\n",
    "                         activation=tf.nn.relu),\n",
    "  tf.keras.layers.Conv2DTranspose(1, (21, 21),\n",
    "                         activation=tf.nn.sigmoid)\n",
    "])"
   ]
  },
  {
   "cell_type": "code",
   "execution_count": 8,
   "metadata": {},
   "outputs": [],
   "source": [
    "def mcor(y_true, y_pred):\n",
    "    #matthews_correlation\n",
    "    y_pred_pos = K.round(K.clip(y_pred, 0, 1))\n",
    "    y_pred_neg = 1 - y_pred_pos\n",
    "    y_pos = K.round(K.clip(y_true, 0, 1))\n",
    "    y_neg = 1 - y_pos\n",
    "    \n",
    "    tp = K.sum(y_pos * y_pred_pos)\n",
    "    tn = K.sum(y_neg * y_pred_neg)\n",
    "    fp = K.sum(y_neg * y_pred_pos)\n",
    "    fn = K.sum(y_pos * y_pred_neg)\n",
    "    \n",
    "    numerator = (tp * tn - fp * fn)\n",
    "    denominator = K.sqrt((tp + fp) * (tp + fn) * (tn + fp) * (tn + fn))\n",
    "    \n",
    "    return numerator / (denominator + K.epsilon())\n",
    "\n",
    "def bcor(y_true, y_pred):\n",
    "    pp = K.mean(K.round(K.clip(y_pred, 0, 1)))\n",
    "    pn = 1 - pp\n",
    "    pos = K.mean(K.round(K.clip(y_true, 0, 1)))\n",
    "    neg = 1 - pos\n",
    "    \n",
    "    tp = K.mean(K.round(K.clip(y_true * y_pred, 0, 1)))\n",
    "    fp = pp - tp\n",
    "    \n",
    "    fn = pos - tp\n",
    "    tn = pn - fn\n",
    "    \n",
    "    return (tp - (p*t)) / (t - (t*t))\n",
    "\n",
    "def precision(y_true, y_pred):\n",
    "    tp = K.sum(K.round(K.clip(y_true * y_pred, 0, 1)))\n",
    "    pp = K.sum(K.round(K.clip(y_pred, 0, 1)))\n",
    "    precision = tp / (pp + K.epsilon())\n",
    "    return precision\n",
    "\n",
    "def recall(y_true, y_pred):\n",
    "    tp = K.sum(K.round(K.clip(y_true * y_pred, 0, 1)))\n",
    "    pos = K.sum(K.round(K.clip(y_true, 0, 1)))\n",
    "    recall = tp / (pos + K.epsilon())\n",
    "    return recall\n",
    "\n",
    "def f1(y_true, y_pred):\n",
    "    tp = K.sum(K.round(K.clip(y_true * y_pred, 0, 1)))\n",
    "    pp = K.sum(K.round(K.clip(y_pred, 0, 1)))\n",
    "    precision = tp / (pp + K.epsilon())\n",
    "    \n",
    "    pos = K.sum(K.round(K.clip(y_true, 0, 1)))\n",
    "    recall = tp / (pos + K.epsilon())\n",
    "    \n",
    "    return 2*((precision * recall) / (precision + recall + K.epsilon()))"
   ]
  },
  {
   "cell_type": "code",
   "execution_count": 9,
   "metadata": {},
   "outputs": [
    {
     "data": {
      "text/plain": [
       "0"
      ]
     },
     "execution_count": 9,
     "metadata": {},
     "output_type": "execute_result"
    }
   ],
   "source": [
    "gc.collect()"
   ]
  },
  {
   "cell_type": "code",
   "execution_count": 10,
   "metadata": {
    "scrolled": true
   },
   "outputs": [],
   "source": [
    "# Compile model\n",
    "model.compile(optimizer='adam',\n",
    "              loss='binary_crossentropy',\n",
    "              metrics=['accuracy', f1, precision, recall, mcor, bcor])"
   ]
  },
  {
   "cell_type": "code",
   "execution_count": 11,
   "metadata": {
    "scrolled": true
   },
   "outputs": [
    {
     "name": "stdout",
     "output_type": "stream",
     "text": [
      "Epoch 1/8\n",
      "100/100 [==============================] - 32s 324ms/step - loss: 21.1567 - acc: 0.7232 - f1: 0.0914 - precision: 0.1726 - recall: 0.1303 - mcor: 0.0015 - bcor: 0.0038\n",
      "Epoch 2/8\n",
      "100/100 [==============================] - 9s 85ms/step - loss: 16.8746 - acc: 0.7995 - f1: 1.8560e-06 - precision: 0.0417 - recall: 9.2804e-07 - mcor: -4.1977e-04 - bcor: -1.3413e-06\n",
      "Epoch 3/8\n",
      "100/100 [==============================] - 8s 85ms/step - loss: 16.5790 - acc: 0.7995 - f1: 0.0000e+00 - precision: 0.0000e+00 - recall: 0.0000e+00 - mcor: -6.7757e-05 - bcor: -7.6847e-08\n",
      "Epoch 4/8\n",
      "100/100 [==============================] - 9s 85ms/step - loss: 16.6605 - acc: 0.7995 - f1: 0.0000e+00 - precision: 0.0000e+00 - recall: 0.0000e+00 - mcor: 0.0000e+00 - bcor: 0.0000e+00\n",
      "Epoch 5/8\n",
      "100/100 [==============================] - 8s 85ms/step - loss: 15.4840 - acc: 0.7995 - f1: 0.0000e+00 - precision: 0.0000e+00 - recall: 0.0000e+00 - mcor: 0.0000e+00 - bcor: 0.0000e+00\n",
      "Epoch 6/8\n",
      "100/100 [==============================] - 8s 85ms/step - loss: 15.1870 - acc: 0.7995 - f1: 0.0000e+00 - precision: 0.0000e+00 - recall: 0.0000e+00 - mcor: 0.0000e+00 - bcor: 0.0000e+00\n",
      "Epoch 7/8\n",
      "100/100 [==============================] - 9s 85ms/step - loss: 15.7927 - acc: 0.7995 - f1: 0.0000e+00 - precision: 0.0000e+00 - recall: 0.0000e+00 - mcor: 0.0000e+00 - bcor: 0.0000e+00\n",
      "Epoch 8/8\n",
      "100/100 [==============================] - 8s 84ms/step - loss: 15.8203 - acc: 0.7995 - f1: 0.0000e+00 - precision: 0.0000e+00 - recall: 0.0000e+00 - mcor: 0.0000e+00 - bcor: 0.0000e+00\n"
     ]
    },
    {
     "data": {
      "text/plain": [
       "<tensorflow.python.keras.callbacks.History at 0x7f7610dc2ac8>"
      ]
     },
     "execution_count": 11,
     "metadata": {},
     "output_type": "execute_result"
    }
   ],
   "source": [
    "# Train\n",
    "model.fit(x_train, y_train, epochs=8)"
   ]
  },
  {
   "cell_type": "code",
   "execution_count": 12,
   "metadata": {},
   "outputs": [
    {
     "name": "stdout",
     "output_type": "stream",
     "text": [
      "100/100 [==============================] - 4s 45ms/step\n"
     ]
    },
    {
     "data": {
      "text/plain": [
       "[15.128132963180542, 0.799531626701355, 0.0, 0.0, 0.0, 0.0, 0.0]"
      ]
     },
     "execution_count": 12,
     "metadata": {},
     "output_type": "execute_result"
    }
   ],
   "source": [
    "# Evaluate\n",
    "model.evaluate(x_train, y_train)"
   ]
  },
  {
   "cell_type": "code",
   "execution_count": null,
   "metadata": {},
   "outputs": [],
   "source": []
  },
  {
   "cell_type": "markdown",
   "metadata": {},
   "source": [
    "\n",
    "\n",
    "\n",
    "\n",
    "\n",
    "\n"
   ]
  },
  {
   "cell_type": "markdown",
   "metadata": {},
   "source": [
    "# Some blank lines\n",
    "<br>\n",
    "<br>\n",
    "<br>\n",
    "<br>\n",
    "<br>\n",
    "<br>\n",
    "<br>\n",
    "<br>\n",
    "<br>\n",
    "<br>\n",
    "<br>\n",
    "<br>\n",
    "<br>\n",
    "<br>\n",
    "<br>"
   ]
  }
 ],
 "metadata": {
  "kernelspec": {
   "display_name": "Python 3",
   "language": "python",
   "name": "python3"
  },
  "language_info": {
   "codemirror_mode": {
    "name": "ipython",
    "version": 3
   },
   "file_extension": ".py",
   "mimetype": "text/x-python",
   "name": "python",
   "nbconvert_exporter": "python",
   "pygments_lexer": "ipython3",
   "version": "3.7.1"
  }
 },
 "nbformat": 4,
 "nbformat_minor": 2
}
