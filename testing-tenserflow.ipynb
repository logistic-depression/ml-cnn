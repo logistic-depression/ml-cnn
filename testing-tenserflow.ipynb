{
 "cells": [
  {
   "cell_type": "code",
   "execution_count": 1,
   "metadata": {},
   "outputs": [],
   "source": [
    "## Math/ML imports\n",
    "import tensorflow as tf\n",
    "from tensorflow.keras import backend as K\n",
    "import numpy as np\n",
    "#import math\n",
    "\n",
    "## Metrics\n",
    "#from sklearn.metrics import f1_score, precision_score, recall_score\n",
    "#from sklearn.metrics import confusion_matrix\n",
    "\n",
    "## Garbage collector\n",
    "import gc\n",
    "\n",
    "## Helpers\n",
    "from png_helper import load_data\n",
    "\n",
    "## Time\n",
    "#import time\n",
    "#from datetime import timedelta\n",
    "\n",
    "## Graphical\n",
    "#%matplotlib inline\n",
    "#import matplotlib.pyplot as plt\n",
    "#from sklearn.metrics import confusion_matrix\n"
   ]
  },
  {
   "cell_type": "code",
   "execution_count": 2,
   "metadata": {},
   "outputs": [],
   "source": [
    "# Load data\n",
    "(x_train, y_train), x_test = load_data()\n",
    "\n",
    "# Map from 0-255 to 0-1\n",
    "x_train = x_train / 255.0\n",
    "y_train = y_train / 255.0\n",
    "x_test = x_test / 255.0\n",
    "\n",
    "# Turn the train set into binary (condition: >=0.5)\n",
    "y_train = tf.keras.utils.to_categorical(y_train * 2) # two categorical collumns\n",
    "y_train = y_train[:,:,:,1:2] # keep only second collumn. (road=1, background=0)"
   ]
  },
  {
   "cell_type": "code",
   "execution_count": 3,
   "metadata": {
    "scrolled": false
   },
   "outputs": [
    {
     "data": {
      "text/plain": [
       "((100, 400, 400, 3), (50, 608, 608, 3), (100, 400, 400, 1))"
      ]
     },
     "execution_count": 3,
     "metadata": {},
     "output_type": "execute_result"
    }
   ],
   "source": [
    "x_train.shape, x_test.shape, y_train.shape"
   ]
  },
  {
   "cell_type": "code",
   "execution_count": 4,
   "metadata": {},
   "outputs": [
    {
     "data": {
      "text/plain": [
       "array([0., 0., 0., 0., 0., 0., 1., 1., 1., 1.], dtype=float32)"
      ]
     },
     "execution_count": 4,
     "metadata": {},
     "output_type": "execute_result"
    }
   ],
   "source": [
    "y_train[0,10,185:195,0] # road=1, background=0"
   ]
  },
  {
   "cell_type": "code",
   "execution_count": 5,
   "metadata": {},
   "outputs": [],
   "source": [
    "#from showim import showim\n",
    "#showim(x_train[0], x_train[1], x_train[2], y_train[0], y_train[1], y_train[2])"
   ]
  },
  {
   "cell_type": "code",
   "execution_count": 6,
   "metadata": {
    "scrolled": true
   },
   "outputs": [
    {
     "data": {
      "text/plain": [
       "array([0.24705882, 0.23137255, 0.21568627])"
      ]
     },
     "execution_count": 6,
     "metadata": {},
     "output_type": "execute_result"
    }
   ],
   "source": [
    "x_train[0][10][200]"
   ]
  },
  {
   "cell_type": "code",
   "execution_count": 7,
   "metadata": {},
   "outputs": [],
   "source": [
    "model = tf.keras.models.Sequential([\n",
    "  tf.keras.layers.Conv2D(128, (10, 10), strides=2,\n",
    "                         activation=tf.nn.relu), # 399 -> 195\n",
    "  tf.keras.layers.Conv2D(256, (6, 6), strides=2,\n",
    "                         activation=tf.nn.relu), # 195 -> 95\n",
    "  tf.keras.layers.Conv2D(256, (6, 6),\n",
    "                         activation=tf.nn.relu), # 95 -> 90\n",
    "  tf.keras.layers.Conv2D(1024, (7, 7), strides=2,\n",
    "                         activation=tf.nn.relu), # 90 -> 42\n",
    "  tf.keras.layers.Conv2D(1024, (5, 5),\n",
    "                         activation=tf.nn.relu), # 42 -> 38\n",
    "  tf.keras.layers.Conv2DTranspose(1, (20, 20), strides=10, # 38 -> 399\n",
    "                         activation=None)\n",
    "])"
   ]
  },
  {
   "cell_type": "code",
   "execution_count": 8,
   "metadata": {},
   "outputs": [],
   "source": [
    "def mcor(y_true, y_pred):\n",
    "    #matthews_correlation\n",
    "    y_pred_pos = K.round(K.clip(y_pred, 0, 1))\n",
    "    y_pred_neg = 1 - y_pred_pos\n",
    "    y_pos = K.round(K.clip(y_true, 0, 1))\n",
    "    y_neg = 1 - y_pos\n",
    "    \n",
    "    tp = K.sum(y_pos * y_pred_pos)\n",
    "    tn = K.sum(y_neg * y_pred_neg)\n",
    "    fp = K.sum(y_neg * y_pred_pos)\n",
    "    fn = K.sum(y_pos * y_pred_neg)\n",
    "    \n",
    "    numerator = (tp * tn - fp * fn)\n",
    "    denominator = K.sqrt((tp + fp) * (tp + fn) * (tn + fp) * (tn + fn))\n",
    "    \n",
    "    return numerator / (denominator + K.epsilon())\n",
    "\n",
    "def bcor(y_true, y_pred):\n",
    "    pp = K.mean(K.round(K.clip(y_pred, 0, 1)))\n",
    "    pn = 1 - pp\n",
    "    pos = K.mean(K.round(K.clip(y_true, 0, 1)))\n",
    "    neg = 1 - pos\n",
    "    \n",
    "    tp = K.mean(K.round(K.clip(y_true * y_pred, 0, 1)))\n",
    "    fp = pp - tp\n",
    "    \n",
    "    fn = pos - tp\n",
    "    tn = pn - fn\n",
    "    \n",
    "    return (tp - (pp*pos)) / (pos - (pos*pos))\n",
    "\n",
    "def precision(y_true, y_pred):\n",
    "    tp = K.sum(K.round(K.clip(y_true * y_pred, 0, 1)))\n",
    "    pp = K.sum(K.round(K.clip(y_pred, 0, 1)))\n",
    "    precision = tp / (pp + K.epsilon())\n",
    "    return precision\n",
    "\n",
    "def recall(y_true, y_pred):\n",
    "    tp = K.sum(K.round(K.clip(y_true * y_pred, 0, 1)))\n",
    "    pos = K.sum(K.round(K.clip(y_true, 0, 1)))\n",
    "    recall = tp / (pos + K.epsilon())\n",
    "    return recall\n",
    "\n",
    "def f1(y_true, y_pred):\n",
    "    tp = K.sum(K.round(K.clip(y_true * y_pred, 0, 1)))\n",
    "    pp = K.sum(K.round(K.clip(y_pred, 0, 1)))\n",
    "    precision = tp / (pp + K.epsilon())\n",
    "    \n",
    "    pos = K.sum(K.round(K.clip(y_true, 0, 1)))\n",
    "    recall = tp / (pos + K.epsilon())\n",
    "    \n",
    "    return 2*((precision * recall) / (precision + recall + K.epsilon()))"
   ]
  },
  {
   "cell_type": "code",
   "execution_count": 9,
   "metadata": {},
   "outputs": [
    {
     "data": {
      "text/plain": [
       "0"
      ]
     },
     "execution_count": 9,
     "metadata": {},
     "output_type": "execute_result"
    }
   ],
   "source": [
    "gc.collect()"
   ]
  },
  {
   "cell_type": "code",
   "execution_count": 10,
   "metadata": {
    "scrolled": true
   },
   "outputs": [],
   "source": [
    "# Compile model\n",
    "optimizer = tf.keras.optimizers.Adam(lr=0.10, beta_1=0.9, beta_2=0.999, epsilon=None, decay=0.0, amsgrad=False)\n",
    "\n",
    "model.compile(optimizer=optimizer,\n",
    "              loss='binary_crossentropy',\n",
    "              metrics=['accuracy', f1, precision, recall, mcor, bcor])"
   ]
  },
  {
   "cell_type": "code",
   "execution_count": 11,
   "metadata": {
    "scrolled": true
   },
   "outputs": [
    {
     "name": "stdout",
     "output_type": "stream",
     "text": [
      "Epoch 1/100\n",
      "100/100 [==============================] - 31s 309ms/step - loss: 210.2314 - acc: 0.3323 - f1: 0.2716 - precision: 0.1640 - recall: 0.7920 - mcor: -1.0892e-04 - bcor: -2.9205e-05\n",
      "Epoch 2/100\n",
      "100/100 [==============================] - 12s 122ms/step - loss: 253.0266 - acc: 0.2065 - f1: 0.3332 - precision: 0.2005 - recall: 0.9900 - mcor: -1.3364e-04 - bcor: -3.3277e-05\n",
      "Epoch 3/100\n",
      "100/100 [==============================] - 12s 121ms/step - loss: 253.0266 - acc: 0.2065 - f1: 0.3334 - precision: 0.2005 - recall: 0.9900 - mcor: -1.3310e-04 - bcor: -3.3031e-05\n",
      "Epoch 4/100\n",
      "100/100 [==============================] - 12s 121ms/step - loss: 253.0266 - acc: 0.2065 - f1: 0.3331 - precision: 0.2005 - recall: 0.9900 - mcor: -1.3368e-04 - bcor: -3.3368e-05\n",
      "Epoch 5/100\n",
      "100/100 [==============================] - 12s 121ms/step - loss: 253.0266 - acc: 0.2065 - f1: 0.3332 - precision: 0.2005 - recall: 0.9900 - mcor: -1.3623e-04 - bcor: -3.4591e-05\n",
      "Epoch 6/100\n",
      "100/100 [==============================] - 12s 122ms/step - loss: 253.0266 - acc: 0.2065 - f1: 0.3332 - precision: 0.2005 - recall: 0.9900 - mcor: -1.3168e-04 - bcor: -3.2291e-05\n",
      "Epoch 7/100\n",
      "100/100 [==============================] - 12s 122ms/step - loss: 253.0266 - acc: 0.2065 - f1: 0.3333 - precision: 0.2005 - recall: 0.9900 - mcor: -1.3130e-04 - bcor: -3.2114e-05\n",
      "Epoch 8/100\n",
      "100/100 [==============================] - 12s 122ms/step - loss: 253.0266 - acc: 0.2065 - f1: 0.3325 - precision: 0.2005 - recall: 0.9900 - mcor: -1.2996e-04 - bcor: -3.1441e-05\n",
      "Epoch 9/100\n",
      "100/100 [==============================] - 12s 122ms/step - loss: 253.0266 - acc: 0.2065 - f1: 0.3330 - precision: 0.2005 - recall: 0.9900 - mcor: -1.4096e-04 - bcor: -3.6843e-05\n",
      "Epoch 10/100\n",
      "100/100 [==============================] - 12s 121ms/step - loss: 253.0266 - acc: 0.2065 - f1: 0.3331 - precision: 0.2005 - recall: 0.9900 - mcor: -1.2977e-04 - bcor: -3.1408e-05\n",
      "Epoch 11/100\n",
      "100/100 [==============================] - 12s 121ms/step - loss: 253.0266 - acc: 0.2065 - f1: 0.3333 - precision: 0.2005 - recall: 0.9900 - mcor: -1.3372e-04 - bcor: -3.3317e-05\n",
      "Epoch 12/100\n",
      "100/100 [==============================] - 12s 121ms/step - loss: 253.0266 - acc: 0.2065 - f1: 0.3332 - precision: 0.2005 - recall: 0.9900 - mcor: -1.3200e-04 - bcor: -3.2496e-05\n",
      "Epoch 13/100\n",
      "100/100 [==============================] - 12s 121ms/step - loss: 253.0266 - acc: 0.2065 - f1: 0.3332 - precision: 0.2005 - recall: 0.9900 - mcor: -1.3533e-04 - bcor: -3.4066e-05\n",
      "Epoch 14/100\n",
      " 60/100 [=================>............] - ETA: 4s - loss: 253.6009 - acc: 0.2047 - f1: 0.3307 - precision: 0.1986 - recall: 0.9900 - mcor: -1.4224e-04 - bcor: -3.6473e-05"
     ]
    },
    {
     "ename": "KeyboardInterrupt",
     "evalue": "",
     "output_type": "error",
     "traceback": [
      "\u001b[0;31m---------------------------------------------------------------------------\u001b[0m",
      "\u001b[0;31mKeyboardInterrupt\u001b[0m                         Traceback (most recent call last)",
      "\u001b[0;32m<ipython-input-11-8c410c93e43a>\u001b[0m in \u001b[0;36m<module>\u001b[0;34m\u001b[0m\n\u001b[1;32m      1\u001b[0m \u001b[0;31m# Train\u001b[0m\u001b[0;34m\u001b[0m\u001b[0;34m\u001b[0m\u001b[0;34m\u001b[0m\u001b[0m\n\u001b[0;32m----> 2\u001b[0;31m \u001b[0mmodel\u001b[0m\u001b[0;34m.\u001b[0m\u001b[0mfit\u001b[0m\u001b[0;34m(\u001b[0m\u001b[0mx_train\u001b[0m\u001b[0;34m,\u001b[0m \u001b[0my_train\u001b[0m\u001b[0;34m,\u001b[0m \u001b[0mbatch_size\u001b[0m\u001b[0;34m=\u001b[0m\u001b[0;36m20\u001b[0m\u001b[0;34m,\u001b[0m \u001b[0mepochs\u001b[0m\u001b[0;34m=\u001b[0m\u001b[0;36m100\u001b[0m\u001b[0;34m)\u001b[0m\u001b[0;34m\u001b[0m\u001b[0;34m\u001b[0m\u001b[0m\n\u001b[0m",
      "\u001b[0;32m/usr/lib/python3.7/site-packages/tensorflow/python/keras/engine/training.py\u001b[0m in \u001b[0;36mfit\u001b[0;34m(self, x, y, batch_size, epochs, verbose, callbacks, validation_split, validation_data, shuffle, class_weight, sample_weight, initial_epoch, steps_per_epoch, validation_steps, max_queue_size, workers, use_multiprocessing, **kwargs)\u001b[0m\n\u001b[1;32m   1637\u001b[0m           \u001b[0minitial_epoch\u001b[0m\u001b[0;34m=\u001b[0m\u001b[0minitial_epoch\u001b[0m\u001b[0;34m,\u001b[0m\u001b[0;34m\u001b[0m\u001b[0;34m\u001b[0m\u001b[0m\n\u001b[1;32m   1638\u001b[0m           \u001b[0msteps_per_epoch\u001b[0m\u001b[0;34m=\u001b[0m\u001b[0msteps_per_epoch\u001b[0m\u001b[0;34m,\u001b[0m\u001b[0;34m\u001b[0m\u001b[0;34m\u001b[0m\u001b[0m\n\u001b[0;32m-> 1639\u001b[0;31m           validation_steps=validation_steps)\n\u001b[0m\u001b[1;32m   1640\u001b[0m \u001b[0;34m\u001b[0m\u001b[0m\n\u001b[1;32m   1641\u001b[0m   def evaluate(self,\n",
      "\u001b[0;32m/usr/lib/python3.7/site-packages/tensorflow/python/keras/engine/training_arrays.py\u001b[0m in \u001b[0;36mfit_loop\u001b[0;34m(model, inputs, targets, sample_weights, batch_size, epochs, verbose, callbacks, val_inputs, val_targets, val_sample_weights, shuffle, initial_epoch, steps_per_epoch, validation_steps)\u001b[0m\n\u001b[1;32m    213\u001b[0m           \u001b[0mins_batch\u001b[0m\u001b[0;34m[\u001b[0m\u001b[0mi\u001b[0m\u001b[0;34m]\u001b[0m \u001b[0;34m=\u001b[0m \u001b[0mins_batch\u001b[0m\u001b[0;34m[\u001b[0m\u001b[0mi\u001b[0m\u001b[0;34m]\u001b[0m\u001b[0;34m.\u001b[0m\u001b[0mtoarray\u001b[0m\u001b[0;34m(\u001b[0m\u001b[0;34m)\u001b[0m\u001b[0;34m\u001b[0m\u001b[0;34m\u001b[0m\u001b[0m\n\u001b[1;32m    214\u001b[0m \u001b[0;34m\u001b[0m\u001b[0m\n\u001b[0;32m--> 215\u001b[0;31m         \u001b[0mouts\u001b[0m \u001b[0;34m=\u001b[0m \u001b[0mf\u001b[0m\u001b[0;34m(\u001b[0m\u001b[0mins_batch\u001b[0m\u001b[0;34m)\u001b[0m\u001b[0;34m\u001b[0m\u001b[0;34m\u001b[0m\u001b[0m\n\u001b[0m\u001b[1;32m    216\u001b[0m         \u001b[0;32mif\u001b[0m \u001b[0;32mnot\u001b[0m \u001b[0misinstance\u001b[0m\u001b[0;34m(\u001b[0m\u001b[0mouts\u001b[0m\u001b[0;34m,\u001b[0m \u001b[0mlist\u001b[0m\u001b[0;34m)\u001b[0m\u001b[0;34m:\u001b[0m\u001b[0;34m\u001b[0m\u001b[0;34m\u001b[0m\u001b[0m\n\u001b[1;32m    217\u001b[0m           \u001b[0mouts\u001b[0m \u001b[0;34m=\u001b[0m \u001b[0;34m[\u001b[0m\u001b[0mouts\u001b[0m\u001b[0;34m]\u001b[0m\u001b[0;34m\u001b[0m\u001b[0;34m\u001b[0m\u001b[0m\n",
      "\u001b[0;32m/usr/lib/python3.7/site-packages/tensorflow/python/keras/backend.py\u001b[0m in \u001b[0;36m__call__\u001b[0;34m(self, inputs)\u001b[0m\n\u001b[1;32m   2984\u001b[0m \u001b[0;34m\u001b[0m\u001b[0m\n\u001b[1;32m   2985\u001b[0m     fetched = self._callable_fn(*array_vals,\n\u001b[0;32m-> 2986\u001b[0;31m                                 run_metadata=self.run_metadata)\n\u001b[0m\u001b[1;32m   2987\u001b[0m     \u001b[0mself\u001b[0m\u001b[0;34m.\u001b[0m\u001b[0m_call_fetch_callbacks\u001b[0m\u001b[0;34m(\u001b[0m\u001b[0mfetched\u001b[0m\u001b[0;34m[\u001b[0m\u001b[0;34m-\u001b[0m\u001b[0mlen\u001b[0m\u001b[0;34m(\u001b[0m\u001b[0mself\u001b[0m\u001b[0;34m.\u001b[0m\u001b[0m_fetches\u001b[0m\u001b[0;34m)\u001b[0m\u001b[0;34m:\u001b[0m\u001b[0;34m]\u001b[0m\u001b[0;34m)\u001b[0m\u001b[0;34m\u001b[0m\u001b[0;34m\u001b[0m\u001b[0m\n\u001b[1;32m   2988\u001b[0m     \u001b[0;32mreturn\u001b[0m \u001b[0mfetched\u001b[0m\u001b[0;34m[\u001b[0m\u001b[0;34m:\u001b[0m\u001b[0mlen\u001b[0m\u001b[0;34m(\u001b[0m\u001b[0mself\u001b[0m\u001b[0;34m.\u001b[0m\u001b[0moutputs\u001b[0m\u001b[0;34m)\u001b[0m\u001b[0;34m]\u001b[0m\u001b[0;34m\u001b[0m\u001b[0;34m\u001b[0m\u001b[0m\n",
      "\u001b[0;32m/usr/lib/python3.7/site-packages/tensorflow/python/client/session.py\u001b[0m in \u001b[0;36m__call__\u001b[0;34m(self, *args, **kwargs)\u001b[0m\n\u001b[1;32m   1437\u001b[0m           ret = tf_session.TF_SessionRunCallable(\n\u001b[1;32m   1438\u001b[0m               \u001b[0mself\u001b[0m\u001b[0;34m.\u001b[0m\u001b[0m_session\u001b[0m\u001b[0;34m.\u001b[0m\u001b[0m_session\u001b[0m\u001b[0;34m,\u001b[0m \u001b[0mself\u001b[0m\u001b[0;34m.\u001b[0m\u001b[0m_handle\u001b[0m\u001b[0;34m,\u001b[0m \u001b[0margs\u001b[0m\u001b[0;34m,\u001b[0m \u001b[0mstatus\u001b[0m\u001b[0;34m,\u001b[0m\u001b[0;34m\u001b[0m\u001b[0;34m\u001b[0m\u001b[0m\n\u001b[0;32m-> 1439\u001b[0;31m               run_metadata_ptr)\n\u001b[0m\u001b[1;32m   1440\u001b[0m         \u001b[0;32mif\u001b[0m \u001b[0mrun_metadata\u001b[0m\u001b[0;34m:\u001b[0m\u001b[0;34m\u001b[0m\u001b[0;34m\u001b[0m\u001b[0m\n\u001b[1;32m   1441\u001b[0m           \u001b[0mproto_data\u001b[0m \u001b[0;34m=\u001b[0m \u001b[0mtf_session\u001b[0m\u001b[0;34m.\u001b[0m\u001b[0mTF_GetBuffer\u001b[0m\u001b[0;34m(\u001b[0m\u001b[0mrun_metadata_ptr\u001b[0m\u001b[0;34m)\u001b[0m\u001b[0;34m\u001b[0m\u001b[0;34m\u001b[0m\u001b[0m\n",
      "\u001b[0;31mKeyboardInterrupt\u001b[0m: "
     ]
    }
   ],
   "source": [
    "# Train\n",
    "model.fit(x_train, y_train, batch_size=20, epochs=100)"
   ]
  },
  {
   "cell_type": "code",
   "execution_count": null,
   "metadata": {},
   "outputs": [],
   "source": [
    "# Evaluate\n",
    "model.evaluate(x_train, y_train)"
   ]
  },
  {
   "cell_type": "code",
   "execution_count": null,
   "metadata": {},
   "outputs": [],
   "source": []
  },
  {
   "cell_type": "markdown",
   "metadata": {},
   "source": [
    "\n",
    "\n",
    "\n",
    "\n",
    "\n",
    "\n"
   ]
  },
  {
   "cell_type": "markdown",
   "metadata": {},
   "source": [
    "# Some blank lines\n",
    "<br>\n",
    "<br>\n",
    "<br>\n",
    "<br>\n",
    "<br>\n",
    "<br>\n",
    "<br>\n",
    "<br>\n",
    "<br>\n",
    "<br>\n",
    "<br>\n",
    "<br>\n",
    "<br>\n",
    "<br>\n",
    "<br>"
   ]
  },
  {
   "cell_type": "code",
   "execution_count": null,
   "metadata": {},
   "outputs": [],
   "source": []
  }
 ],
 "metadata": {
  "kernelspec": {
   "display_name": "Python 3",
   "language": "python",
   "name": "python3"
  },
  "language_info": {
   "codemirror_mode": {
    "name": "ipython",
    "version": 3
   },
   "file_extension": ".py",
   "mimetype": "text/x-python",
   "name": "python",
   "nbconvert_exporter": "python",
   "pygments_lexer": "ipython3",
   "version": "3.7.1"
  }
 },
 "nbformat": 4,
 "nbformat_minor": 2
}
